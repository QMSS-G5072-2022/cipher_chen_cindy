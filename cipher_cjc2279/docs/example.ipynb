{
    "cells": [
        {
            "cell_type": "markdown",
            "metadata": {},
            "source": [
                "# Example usage\n",
                "\n",
                "To use `cipher_cjc2279` in a project:"
            ]
        },
        {
            "cell_type": "code",
            "execution_count": null,
            "metadata": {},
            "outputs": [],
            "source": [
                "import cipher_cjc2279\n",
                "\n",
                "text = \"kangaroo\"\n",
                "shift = 26\n",
                "cipher_cjc2279.cipher(text, shift, encrypt = True)"
            ]
        }
    ],
    "metadata": {
        "kernelspec": {
            "display_name": "Python 3.10.6 64-bit ('3.10.6')",
            "language": "python",
            "name": "python3"
        },
        "language_info": {
            "codemirror_mode": {
                "name": "ipython",
                "version": 3
            },
            "file_extension": ".py",
            "mimetype": "text/x-python",
            "name": "python",
            "nbconvert_exporter": "python",
            "pygments_lexer": "ipython3",
            "version": "3.10.6"
        },
        "vscode": {
            "interpreter": {
                "hash": "5b404b935be08684fe593fa061ed48c39dab22d163242cb227e5a9d4a54e6ea4"
            }
        }
    },
    "nbformat": 4,
    "nbformat_minor": 4
}
